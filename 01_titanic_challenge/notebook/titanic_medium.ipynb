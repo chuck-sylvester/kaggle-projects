{
 "cells": [
  {
   "cell_type": "code",
   "execution_count": 1,
   "id": "16561d4f",
   "metadata": {},
   "outputs": [],
   "source": [
    "# Kaggle Titanic Machine Learning Model: Basic Implementation\n",
    "# Studying and possibly tweaking this sample solution\n",
    "# https://medium.com/@sinha.raunak/kaggle-titanic-machine-learning-model-basic-implementation-363c7f073d70\n",
    "\n",
    "import numpy as np\n",
    "import pandas as pd\n",
    "from sklearn.ensemble import RandomForestClassifier\n",
    "from matplotlib import pyplot as plt\n",
    "import torch\n",
    "from torch import tensor\n",
    "import time"
   ]
  },
  {
   "cell_type": "code",
   "execution_count": 2,
   "id": "df5d2ed4",
   "metadata": {},
   "outputs": [
    {
     "name": "stdout",
     "output_type": "stream",
     "text": [
      "TRAIN DF\n",
      "   PassengerId  Survived  Pclass                                                 Name     Sex   Age  SibSp  Parch            Ticket     Fare Cabin Embarked\n",
      "0            1         0       3                              Braund, Mr. Owen Harris    male  22.0      1      0         A/5 21171   7.2500   NaN        S\n",
      "1            2         1       1  Cumings, Mrs. John Bradley (Florence Briggs Thayer)  female  38.0      1      0          PC 17599  71.2833   C85        C\n",
      "2            3         1       3                               Heikkinen, Miss. Laina  female  26.0      0      0  STON/O2. 3101282   7.9250   NaN        S\n",
      "3            4         1       1         Futrelle, Mrs. Jacques Heath (Lily May Peel)  female  35.0      1      0            113803  53.1000  C123        S\n",
      "4            5         0       3                             Allen, Mr. William Henry    male  35.0      0      0            373450   8.0500   NaN        S\n",
      "\n"
     ]
    }
   ],
   "source": [
    "# Create and load train and test datasets from csv files\n",
    "\n",
    "train_file_path = \"../data/titanic_train.csv\"\n",
    "test_file_path = \"../data/titanic_test.csv\"\n",
    "\n",
    "train_df = pd.read_csv(train_file_path)\n",
    "test_df = pd.read_csv(test_file_path)\n",
    "\n",
    "print(f\"TRAIN DF\\n{train_df.head().to_string()}\\n\")\n",
    "# print(f\"TEST DF\\n{test_df.head().to_string()}\")"
   ]
  },
  {
   "cell_type": "code",
   "execution_count": null,
   "id": "ec435264",
   "metadata": {},
   "outputs": [],
   "source": [
    "# Get info on the features\n",
    "\n",
    "train_df.info()"
   ]
  },
  {
   "cell_type": "code",
   "execution_count": null,
   "id": "6e11ab9d",
   "metadata": {},
   "outputs": [],
   "source": [
    "# Summary plot for sex\n",
    "\n",
    "num_male_pasengers = len(train_df[(train_df['Sex'] == 'male')])\n",
    "num_male_survivors = train_df[(train_df['Survived'] == 1) & (train_df['Sex'] == 'male')]['Survived'].sum()\n",
    "male_survival_rate = num_male_survivors / num_male_pasengers\n",
    "print(f\"  Male Survival Rate: {male_survival_rate:.8f} ({round(male_survival_rate, 2)})\")\n",
    "\n",
    "num_female_pasengers = len(train_df[(train_df['Sex'] == 'female')])\n",
    "num_female_survivors = train_df[(train_df['Survived'] == 1) & (train_df['Sex'] == 'female')]['Survived'].sum()\n",
    "female_survival_rate = num_female_survivors / num_female_pasengers\n",
    "print(f\"Female Survival Rate: {female_survival_rate:.8f} ({round(female_survival_rate, 2)})\")\n",
    "\n",
    "plt.bar(['Male Survival Rate', 'Femal Survival Rate'], [male_survival_rate, female_survival_rate])"
   ]
  },
  {
   "cell_type": "code",
   "execution_count": null,
   "id": "a0fcf335",
   "metadata": {},
   "outputs": [],
   "source": [
    "# Summary plot for Passenger Class\n",
    "\n",
    "# get passenger counts for each class\n",
    "num_pclass1 = len(train_df[(train_df['Pclass'] == 1)])\n",
    "num_pclass2 = len(train_df[(train_df['Pclass'] == 2)])\n",
    "num_pclass3 = len(train_df[(train_df['Pclass'] == 3)])\n",
    "\n",
    "print(\"Number of Pclass1:\", num_pclass1)\n",
    "print(\"Number of Pclass1:\", num_pclass2)\n",
    "print(\"Number of Pclass3:\", num_pclass3)\n",
    "print(\"--\")\n",
    "\n",
    "# get survival counts for each class\n",
    "survived_pclass1 = train_df[(train_df['Survived'] == 1) & (train_df['Pclass'] == 1)]['Survived'].sum()\n",
    "survived_pclass2 = train_df[(train_df['Survived'] == 1) & (train_df['Pclass'] == 2)]['Survived'].sum()\n",
    "survived_pclass3 = train_df[(train_df['Survived'] == 1) & (train_df['Pclass'] == 3)]['Survived'].sum()\n",
    "\n",
    "print(\"Survived Pclass 1:\", survived_pclass1)\n",
    "print(\"Survived Pclass 2:\", survived_pclass2)\n",
    "print(\"Survived Pclass 3:\", survived_pclass3)\n",
    "print(\"--\")\n",
    "\n",
    "# get average survival rate for each class\n",
    "survive_rate_pc1 = survived_pclass1 / num_pclass1\n",
    "survive_rate_pc2 = survived_pclass2 / num_pclass2\n",
    "survive_rate_pc3 = survived_pclass3 / num_pclass3\n",
    "\n",
    "print(f\"Survival rate Pclass1: {survive_rate_pc1:.3f}\")\n",
    "print(f\"Survival rate Pclass2: {survive_rate_pc2:.3f}\")\n",
    "print(f\"Survival rate Pclass3: {survive_rate_pc3:.3f}\")\n",
    "\n",
    "plt.bar(['Survival Rate Pclass1', 'Survival Rate Pclass2', 'Survival Rate Pclass3'], \\\n",
    "        [survive_rate_pc1, survive_rate_pc2, survive_rate_pc3])"
   ]
  },
  {
   "cell_type": "code",
   "execution_count": null,
   "id": "d4ac83e0",
   "metadata": {},
   "outputs": [],
   "source": [
    "# Data Cleansing\n",
    "\n",
    "# what do the numerical variables tell us?\n",
    "train_df.describe()"
   ]
  },
  {
   "cell_type": "code",
   "execution_count": 3,
   "id": "37f9052c",
   "metadata": {},
   "outputs": [
    {
     "name": "stdout",
     "output_type": "stream",
     "text": [
      "<class 'numpy.float64'>\n",
      "24.0\n",
      "   PassengerId  Survived  Pclass                                                 Name     Sex   Age  SibSp  Parch            Ticket     Fare Cabin Embarked\n",
      "0            1         0       3                              Braund, Mr. Owen Harris    male  22.0      1      0         A/5 21171   7.2500   NaN        S\n",
      "1            2         1       1  Cumings, Mrs. John Bradley (Florence Briggs Thayer)  female  38.0      1      0          PC 17599  71.2833   C85        C\n",
      "2            3         1       3                               Heikkinen, Miss. Laina  female  26.0      0      0  STON/O2. 3101282   7.9250   NaN        S\n",
      "3            4         1       1         Futrelle, Mrs. Jacques Heath (Lily May Peel)  female  35.0      1      0            113803  53.1000  C123        S\n",
      "4            5         0       3                             Allen, Mr. William Henry    male  35.0      0      0            373450   8.0500   NaN        S\n",
      "5            6         0       3                                     Moran, Mr. James    male  24.0      0      0            330877   8.4583   NaN        Q\n",
      "6            7         0       1                              McCarthy, Mr. Timothy J    male  54.0      0      0             17463  51.8625   E46        S\n",
      "7            8         0       3                       Palsson, Master. Gosta Leonard    male   2.0      3      1            349909  21.0750   NaN        S\n",
      "8            9         1       3    Johnson, Mrs. Oscar W (Elisabeth Vilhelmina Berg)  female  27.0      0      2            347742  11.1333   NaN        S\n",
      "9           10         1       2                  Nasser, Mrs. Nicholas (Adele Achem)  female  14.0      1      0            237736  30.0708   NaN        C\n"
     ]
    }
   ],
   "source": [
    "# Impute values for missing data in AGE variable\n",
    "\n",
    "# let's use age \"mode\" (24.0) to fill in the null values\n",
    "age_mode = train_df['Age'].mode().iloc[0]\n",
    "print(type(age_mode))\n",
    "print(age_mode)\n",
    "\n",
    "train_df['Age'] = train_df['Age'].fillna(age_mode)\n",
    "print(train_df.head(10).to_string())"
   ]
  },
  {
   "cell_type": "code",
   "execution_count": 4,
   "id": "54082258",
   "metadata": {},
   "outputs": [],
   "source": [
    "# Impute values for missing data in EMBARKED variable\n",
    "\n",
    "# let's use the embarked mode to fill in the two missing values\n",
    "embarked_mode = train_df['Embarked'].mode().iloc[0]\n",
    "train_df['Embarked'] = train_df['Embarked'].fillna(embarked_mode)"
   ]
  },
  {
   "cell_type": "code",
   "execution_count": null,
   "id": "086735b6",
   "metadata": {},
   "outputs": [],
   "source": [
    "# Take a fresh look at the dataframe stats\n",
    "# Looks like all variables have full set of values (count = 891)\n",
    "\n",
    "train_df.describe()"
   ]
  },
  {
   "cell_type": "code",
   "execution_count": null,
   "id": "cafe27d1",
   "metadata": {},
   "outputs": [],
   "source": [
    "# Just for kicks, let's see if this cleansing and imputing helps our original score\n",
    "# Let's do some AI/ML stuff - building a random forest model\n",
    "# Same score (0.77511)\n",
    "\n",
    "y = train_df[\"Survived\"]                        # target variable (did the passenger survive)\n",
    "features = [\"Pclass\", \"Sex\", \"SibSp\", \"Parch\", \"Fare\"]  # attributes from the input dataset\n",
    "\n",
    "# transform the dataset into a machine learning friendly DataFrame format\n",
    "X = pd.get_dummies(train_df[features])          # features dataframe (after one-hot encoding)\n",
    "X_test = pd.get_dummies(test_df[features])      # features dataframe (after one-hot encoding)\n",
    "\n",
    "model = RandomForestClassifier(n_estimators=500, max_depth=5, random_state=1)\n",
    "model.fit(X, y)\n",
    "predictions = model.predict(X_test)\n",
    "\n",
    "output = pd.DataFrame({'PassengerID': test_df.PassengerId, 'Survived': predictions})\n",
    "output.to_csv('../output/titanic_20250918_02.csv', index=False)\n",
    "print(\"Your submission was successfully saved!\")"
   ]
  },
  {
   "cell_type": "code",
   "execution_count": 5,
   "id": "a1ddf9dc",
   "metadata": {},
   "outputs": [],
   "source": [
    "# Next up, Normalization of certain columns\n",
    "# To-Do: learn more about normalization\n",
    "\n",
    "# normalize age & fare for both datasets\n",
    "max_age_train = train_df['Age'].max()\n",
    "train_df['N_Age'] = train_df['Age']/max_age_train\n",
    "train_df['N_Fare'] = np.log(train_df['Fare'] + 1) # add 1 so that N_Fare is never negative\n",
    "\n",
    "max_age_test = train_df['Age'].max()\n",
    "test_df['N_Age'] = test_df['Age']/max_age_test\n",
    "test_df['N_Fare'] = np.log(test_df['Fare'] + 1) # add 1 so that N_Fare is never negative"
   ]
  },
  {
   "cell_type": "code",
   "execution_count": null,
   "id": "1dea21e4",
   "metadata": {},
   "outputs": [],
   "source": [
    "# Try again using the normalized age and normalized fare\n",
    "\n",
    "# Just for kicks, let's see if this cleansing and imputing helps our original score\n",
    "# Let's do some AI/ML stuff - building a random forest model\n",
    "# Improved score (0.78221)\n",
    "\n",
    "y = train_df[\"Survived\"]                        # target variable (did the passenger survive)\n",
    "features = [\"Pclass\", \"Sex\", \"SibSp\", \"Parch\", \"N_Fare\", \"N_Age\"]  # attributes from the input dataset\n",
    "\n",
    "# transform the dataset into a machine learning friendly DataFrame format\n",
    "X = pd.get_dummies(train_df[features])          # features dataframe (after one-hot encoding)\n",
    "X_test = pd.get_dummies(test_df[features])      # features dataframe (after one-hot encoding)\n",
    "\n",
    "model = RandomForestClassifier(n_estimators=500, max_depth=5, random_state=1)\n",
    "model.fit(X, y)\n",
    "predictions = model.predict(X_test)\n",
    "\n",
    "output = pd.DataFrame({'PassengerID': test_df.PassengerId, 'Survived': predictions})\n",
    "output.to_csv('../output/titanic_20250918_03.csv', index=False)\n",
    "print(\"Your submission was successfully saved!\")"
   ]
  },
  {
   "cell_type": "code",
   "execution_count": null,
   "id": "8d1465be",
   "metadata": {},
   "outputs": [],
   "source": [
    "print(train_df.columns)"
   ]
  },
  {
   "cell_type": "code",
   "execution_count": null,
   "id": "d85533ad",
   "metadata": {},
   "outputs": [],
   "source": [
    "# One Hot Coding for Categoricals\n",
    "# Categorical variables such as 'Sex', 'Pclass', and 'Embarked' need to be encoded into numerical format.\n",
    "# We can achieve this by using the get_dummies function from pandas, which creates binary columns for\n",
    "# each unique level of these categorical variables, converting them into a series of 0/1 indicators.\n",
    "\n",
    "# create numeric vars for categorical vars\n",
    "cat_columns = ['Sex', 'Pclass', 'Embarked']\n",
    "train_df = pd.get_dummies(data=train_df, columns=cat_columns, dtype=int)\n",
    "test_df  = pd.get_dummies(data=test_df,  columns=cat_columns, dtype=int)\n",
    "\n",
    "print(train_df)"
   ]
  },
  {
   "cell_type": "code",
   "execution_count": null,
   "id": "77a45e34",
   "metadata": {},
   "outputs": [],
   "source": [
    "print(train_df.columns)\n",
    "print(test_df.columns)"
   ]
  },
  {
   "cell_type": "code",
   "execution_count": null,
   "id": "e1307047",
   "metadata": {},
   "outputs": [
    {
     "name": "stdout",
     "output_type": "stream",
     "text": [
      "Your submission was successfully saved!\n"
     ]
    }
   ],
   "source": [
    "# Try again, including \"Embarked\" variable\n",
    "# Skip the above one-hot encoding, since our submission code below does that\n",
    "# Improved score (0.78709)\n",
    "\n",
    "y = train_df[\"Survived\"]                        # target variable (did the passenger survive)\n",
    "features = [\"Pclass\", \"Sex\", \"SibSp\", \"Parch\", \"Embarked\", \"N_Fare\", \"N_Age\"]  # attributes from the input dataset\n",
    "\n",
    "# transform the dataset into a machine learning friendly DataFrame format\n",
    "X = pd.get_dummies(train_df[features])          # features dataframe (after one-hot encoding)\n",
    "X_test = pd.get_dummies(test_df[features])      # features dataframe (after one-hot encoding)\n",
    "\n",
    "model = RandomForestClassifier(n_estimators=500, max_depth=5, random_state=1)\n",
    "model.fit(X, y)\n",
    "predictions = model.predict(X_test)\n",
    "\n",
    "output = pd.DataFrame({'PassengerID': test_df.PassengerId, 'Survived': predictions})\n",
    "output.to_csv('../output/titanic_20250919_01.csv', index=False)\n",
    "print(\"Your submission was successfully saved!\")"
   ]
  }
 ],
 "metadata": {
  "kernelspec": {
   "display_name": "venv",
   "language": "python",
   "name": "python3"
  },
  "language_info": {
   "codemirror_mode": {
    "name": "ipython",
    "version": 3
   },
   "file_extension": ".py",
   "mimetype": "text/x-python",
   "name": "python",
   "nbconvert_exporter": "python",
   "pygments_lexer": "ipython3",
   "version": "3.13.4"
  }
 },
 "nbformat": 4,
 "nbformat_minor": 5
}
